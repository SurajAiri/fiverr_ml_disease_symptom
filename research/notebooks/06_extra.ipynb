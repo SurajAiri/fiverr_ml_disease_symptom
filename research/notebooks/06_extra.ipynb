{
 "cells": [
  {
   "cell_type": "code",
   "execution_count": 2,
   "id": "ed4e0974-a50a-4439-adea-556d054b0b7d",
   "metadata": {},
   "outputs": [],
   "source": [
    "all_symptoms = ['itching', 'skin_rash', 'nodal_skin_eruptions', 'continuous_sneezing',\n",
    "       'shivering', 'chills', 'joint_pain', 'stomach_pain', 'acidity',\n",
    "       'ulcers_on_tongue', 'muscle_wasting', 'vomiting', 'burning_micturition',\n",
    "       'spotting_ urination', 'fatigue', 'weight_gain', 'anxiety',\n",
    "       'cold_hands_and_feets', 'mood_swings', 'weight_loss', 'restlessness',\n",
    "       'lethargy', 'patches_in_throat', 'irregular_sugar_level', 'cough',\n",
    "       'high_fever', 'sunken_eyes', 'breathlessness', 'sweating',\n",
    "       'dehydration', 'indigestion', 'headache', 'yellowish_skin',\n",
    "       'dark_urine', 'nausea', 'loss_of_appetite', 'pain_behind_the_eyes',\n",
    "       'back_pain', 'constipation', 'abdominal_pain', 'diarrhoea',\n",
    "       'mild_fever', 'yellow_urine', 'yellowing_of_eyes',\n",
    "       'acute_liver_failure', 'fluid_overload', 'swelling_of_stomach',\n",
    "       'swelled_lymph_nodes', 'malaise', 'blurred_and_distorted_vision',\n",
    "       'phlegm', 'throat_irritation', 'redness_of_eyes', 'sinus_pressure',\n",
    "       'runny_nose', 'congestion', 'chest_pain', 'weakness_in_limbs',\n",
    "       'fast_heart_rate', 'pain_during_bowel_movements', 'pain_in_anal_region',\n",
    "       'bloody_stool', 'irritation_in_anus', 'neck_pain', 'dizziness',\n",
    "       'cramps', 'bruising', 'obesity', 'swollen_legs',\n",
    "       'swollen_blood_vessels', 'puffy_face_and_eyes', 'enlarged_thyroid',\n",
    "       'brittle_nails', 'swollen_extremeties', 'excessive_hunger',\n",
    "       'extra_marital_contacts', 'drying_and_tingling_lips', 'slurred_speech',\n",
    "       'knee_pain', 'hip_joint_pain', 'muscle_weakness', 'stiff_neck',\n",
    "       'swelling_joints', 'movement_stiffness', 'spinning_movements',\n",
    "       'loss_of_balance', 'unsteadiness', 'weakness_of_one_body_side',\n",
    "       'loss_of_smell', 'bladder_discomfort', 'foul_smell_of urine',\n",
    "       'continuous_feel_of_urine', 'passage_of_gases', 'internal_itching',\n",
    "       'toxic_look_(typhos)', 'depression', 'irritability', 'muscle_pain',\n",
    "       'altered_sensorium', 'red_spots_over_body', 'belly_pain',\n",
    "       'abnormal_menstruation', 'dischromic _patches', 'watering_from_eyes',\n",
    "       'increased_appetite', 'polyuria', 'family_history', 'mucoid_sputum',\n",
    "       'rusty_sputum', 'lack_of_concentration', 'visual_disturbances',\n",
    "       'receiving_blood_transfusion', 'receiving_unsterile_injections', 'coma',\n",
    "       'stomach_bleeding', 'distention_of_abdomen',\n",
    "       'history_of_alcohol_consumption', 'fluid_overload.1', 'blood_in_sputum',\n",
    "       'prominent_veins_on_calf', 'palpitations', 'painful_walking',\n",
    "       'pus_filled_pimples', 'blackheads', 'scurring', 'skin_peeling',\n",
    "       'silver_like_dusting', 'small_dents_in_nails', 'inflammatory_nails',\n",
    "       'blister', 'red_sore_around_nose', 'yellow_crust_ooze']"
   ]
  },
  {
   "cell_type": "code",
   "execution_count": 3,
   "id": "be06a544-0bf7-4233-9868-d57949e9b67c",
   "metadata": {},
   "outputs": [],
   "source": [
    "def parse_symptoms(symptoms):\n",
    "    sym = []\n",
    "    for s in all_symptoms:\n",
    "        if s in symptoms:\n",
    "            sym.append(1)\n",
    "        else:\n",
    "            sym.append(0)\n",
    "    return sym"
   ]
  },
  {
   "cell_type": "code",
   "execution_count": 9,
   "id": "8946602d-cc86-42dd-a5d7-d87b2b0eb174",
   "metadata": {},
   "outputs": [],
   "source": [
    "import pickle\n",
    "def load_model(path):\n",
    "    with open(path, 'rb') as f:\n",
    "        model = pickle.load(f)\n",
    "    return model"
   ]
  },
  {
   "cell_type": "code",
   "execution_count": 10,
   "id": "dea00fae-9d93-4d54-96a0-5530752ea1af",
   "metadata": {},
   "outputs": [
    {
     "name": "stdout",
     "output_type": "stream",
     "text": [
      "/Users/suraj/vscode/freelancing/fiverr/nlp-disease-symptom-ml/research/notebooks\n"
     ]
    }
   ],
   "source": [
    "!pwd"
   ]
  },
  {
   "cell_type": "code",
   "execution_count": 11,
   "id": "b7d4f5ca-469f-45ad-bd33-fc0feb56c4c1",
   "metadata": {},
   "outputs": [],
   "source": [
    "mdl = load_model('../../models/random_forest-v0.pkl')"
   ]
  },
  {
   "cell_type": "code",
   "execution_count": 13,
   "id": "4eebe8b3-d3fa-47f3-be9f-038186fb7fbc",
   "metadata": {},
   "outputs": [],
   "source": [
    "sym = parse_symptoms(['itching', 'skin_rash', 'nodal_skin_eruptions'])"
   ]
  },
  {
   "cell_type": "code",
   "execution_count": 15,
   "id": "63ce6024-15e7-4ad2-bf3c-612642fa025b",
   "metadata": {},
   "outputs": [
    {
     "name": "stderr",
     "output_type": "stream",
     "text": [
      "/Users/suraj/vscode/freelancing/fiverr/nlp-disease-symptom-ml/.venv/lib/python3.11/site-packages/sklearn/base.py:493: UserWarning: X does not have valid feature names, but RandomForestClassifier was fitted with feature names\n",
      "  warnings.warn(\n"
     ]
    },
    {
     "data": {
      "text/plain": [
       "array(['Fungal infection'], dtype=object)"
      ]
     },
     "execution_count": 15,
     "metadata": {},
     "output_type": "execute_result"
    }
   ],
   "source": [
    "mdl.predict([sym])"
   ]
  },
  {
   "cell_type": "code",
   "execution_count": 17,
   "id": "a978e939-86f6-4ba6-bf33-60c79d17cd6a",
   "metadata": {},
   "outputs": [],
   "source": [
    "import pandas as pd"
   ]
  },
  {
   "cell_type": "code",
   "execution_count": null,
   "id": "0564d3f0-4345-41aa-9882-ecabaea47490",
   "metadata": {},
   "outputs": [],
   "source": []
  },
  {
   "cell_type": "code",
   "execution_count": 20,
   "id": "0f2842e0-c719-4075-b017-35717f003a78",
   "metadata": {},
   "outputs": [],
   "source": [
    "df = pd.read_csv('../../data/testing.csv')"
   ]
  },
  {
   "cell_type": "code",
   "execution_count": 23,
   "id": "e4158216-a2a7-496d-97b2-a03fc7ac0466",
   "metadata": {},
   "outputs": [
    {
     "name": "stderr",
     "output_type": "stream",
     "text": [
      "/Users/suraj/vscode/freelancing/fiverr/nlp-disease-symptom-ml/.venv/lib/python3.11/site-packages/sklearn/base.py:493: UserWarning: X does not have valid feature names, but RandomForestClassifier was fitted with feature names\n",
      "  warnings.warn(\n"
     ]
    },
    {
     "data": {
      "text/plain": [
       "array(['Fungal infection'], dtype=object)"
      ]
     },
     "execution_count": 23,
     "metadata": {},
     "output_type": "execute_result"
    }
   ],
   "source": [
    "mdl.predict([df.drop(columns='disease',axis=0).iloc[0]])"
   ]
  },
  {
   "cell_type": "code",
   "execution_count": null,
   "id": "221ec883-315a-498f-8834-ac284fb647d2",
   "metadata": {},
   "outputs": [],
   "source": []
  }
 ],
 "metadata": {
  "kernelspec": {
   "display_name": "Python 3 (ipykernel)",
   "language": "python",
   "name": "python3"
  },
  "language_info": {
   "codemirror_mode": {
    "name": "ipython",
    "version": 3
   },
   "file_extension": ".py",
   "mimetype": "text/x-python",
   "name": "python",
   "nbconvert_exporter": "python",
   "pygments_lexer": "ipython3",
   "version": "3.11.8"
  }
 },
 "nbformat": 4,
 "nbformat_minor": 5
}
