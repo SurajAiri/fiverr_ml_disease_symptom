{
 "cells": [
  {
   "cell_type": "code",
   "execution_count": 1,
   "id": "e933da5d-9edc-4543-8464-f820ec1eb8f7",
   "metadata": {},
   "outputs": [],
   "source": [
    "import pandas as pd\n",
    "import numpy as np\n",
    "import matplotlib.pyplot as plt"
   ]
  },
  {
   "cell_type": "code",
   "execution_count": 8,
   "id": "ace62ff1-c9e4-46a7-b86a-a50da9891885",
   "metadata": {},
   "outputs": [
    {
     "name": "stdout",
     "output_type": "stream",
     "text": [
      "/Users/suraj/vscode/freelancing/fiverr/nlp-disease-symptom-ml/research/notebooks\n"
     ]
    }
   ],
   "source": [
    "!pwd"
   ]
  },
  {
   "cell_type": "code",
   "execution_count": 9,
   "id": "c2809e48-4688-47eb-9707-24d2fe55a3c0",
   "metadata": {},
   "outputs": [],
   "source": [
    "path = '../../data/dataset.xlsx'"
   ]
  },
  {
   "cell_type": "code",
   "execution_count": 10,
   "id": "88911760-8d35-4a30-b91c-a2cb8c33ac26",
   "metadata": {},
   "outputs": [
    {
     "data": {
      "text/html": [
       "<div>\n",
       "<style scoped>\n",
       "    .dataframe tbody tr th:only-of-type {\n",
       "        vertical-align: middle;\n",
       "    }\n",
       "\n",
       "    .dataframe tbody tr th {\n",
       "        vertical-align: top;\n",
       "    }\n",
       "\n",
       "    .dataframe thead th {\n",
       "        text-align: right;\n",
       "    }\n",
       "</style>\n",
       "<table border=\"1\" class=\"dataframe\">\n",
       "  <thead>\n",
       "    <tr style=\"text-align: right;\">\n",
       "      <th></th>\n",
       "      <th>Symptoms</th>\n",
       "      <th>Disease</th>\n",
       "    </tr>\n",
       "  </thead>\n",
       "  <tbody>\n",
       "    <tr>\n",
       "      <th>0</th>\n",
       "      <td>Fungal infection, skin rash, nodal skin erupti...</td>\n",
       "      <td>Fungal infection</td>\n",
       "    </tr>\n",
       "    <tr>\n",
       "      <th>1</th>\n",
       "      <td>Fungal infection,itching, nodal skin eruptions...</td>\n",
       "      <td>Fungal infection</td>\n",
       "    </tr>\n",
       "    <tr>\n",
       "      <th>2</th>\n",
       "      <td>Fungal infection,itching, skin rash, dischromi...</td>\n",
       "      <td>Fungal infection</td>\n",
       "    </tr>\n",
       "    <tr>\n",
       "      <th>3</th>\n",
       "      <td>Fungal infection,itching, skin rash, nodal ski...</td>\n",
       "      <td>Fungal infection</td>\n",
       "    </tr>\n",
       "    <tr>\n",
       "      <th>4</th>\n",
       "      <td>Fungal infection, skin rash, nodal skin erupti...</td>\n",
       "      <td>Fungal infection</td>\n",
       "    </tr>\n",
       "  </tbody>\n",
       "</table>\n",
       "</div>"
      ],
      "text/plain": [
       "                                            Symptoms           Disease\n",
       "0  Fungal infection, skin rash, nodal skin erupti...  Fungal infection\n",
       "1  Fungal infection,itching, nodal skin eruptions...  Fungal infection\n",
       "2  Fungal infection,itching, skin rash, dischromi...  Fungal infection\n",
       "3  Fungal infection,itching, skin rash, nodal ski...  Fungal infection\n",
       "4  Fungal infection, skin rash, nodal skin erupti...  Fungal infection"
      ]
     },
     "execution_count": 10,
     "metadata": {},
     "output_type": "execute_result"
    }
   ],
   "source": [
    "df = pd.read_excel(path)\n",
    "df.head()"
   ]
  },
  {
   "cell_type": "code",
   "execution_count": 16,
   "id": "6cf93d0e-f95b-4235-a919-50f8a80ccb58",
   "metadata": {},
   "outputs": [],
   "source": [
    "all_symptoms = []\n",
    "def uniqueSymptoms(symp):\n",
    "    for s in symp.split(','):\n",
    "        s = s.strip()\n",
    "        s = s.lower()\n",
    "        if s != '' and s not in all_symptoms:\n",
    "            all_symptoms.append(s)\n",
    "    return symp"
   ]
  },
  {
   "cell_type": "code",
   "execution_count": 17,
   "id": "5c5bf62c-0689-473a-af88-c9eafdec50b2",
   "metadata": {},
   "outputs": [
    {
     "data": {
      "text/plain": [
       "358"
      ]
     },
     "execution_count": 17,
     "metadata": {},
     "output_type": "execute_result"
    }
   ],
   "source": [
    "df['Symptoms'].apply(uniqueSymptoms)\n",
    "len(all_symptoms)"
   ]
  },
  {
   "cell_type": "code",
   "execution_count": 18,
   "id": "94099a17-01ec-4ac7-8baa-17f3cd366f93",
   "metadata": {},
   "outputs": [],
   "source": [
    "def parse_symptoms(symptoms):\n",
    "    sym = []\n",
    "    for s in all_symptoms:\n",
    "        if s in symptoms:\n",
    "            sym.append(1)\n",
    "        else:\n",
    "            sym.append(0)\n",
    "    return sym"
   ]
  },
  {
   "cell_type": "code",
   "execution_count": 25,
   "id": "c2252ba3-df78-4df7-a44a-54b99fe00aa7",
   "metadata": {
    "scrolled": true
   },
   "outputs": [],
   "source": [
    "data = []\n",
    "sym = []\n",
    "for row in df.iterrows():\n",
    "    sym = parse_symptoms(row[1].drop(columns='disease'))\n",
    "    sym.append(row[1]['Disease'])\n",
    "    data.append(sym)"
   ]
  },
  {
   "cell_type": "code",
   "execution_count": 30,
   "id": "3be53175-34b7-4141-8397-a94b73a6efd8",
   "metadata": {
    "scrolled": true
   },
   "outputs": [],
   "source": [
    "\n",
    "final_df = pd.DataFrame(data,columns=all_symptoms+[\"Disease\"])"
   ]
  },
  {
   "cell_type": "code",
   "execution_count": 31,
   "id": "1618e3f0-e3e7-4b05-a578-651783b4425b",
   "metadata": {},
   "outputs": [
    {
     "data": {
      "text/plain": [
       "(441, 359)"
      ]
     },
     "execution_count": 31,
     "metadata": {},
     "output_type": "execute_result"
    }
   ],
   "source": [
    "final_df.shape"
   ]
  },
  {
   "cell_type": "code",
   "execution_count": null,
   "id": "9d43c48d-e525-4d7a-a960-b525f8406e89",
   "metadata": {},
   "outputs": [],
   "source": []
  }
 ],
 "metadata": {
  "kernelspec": {
   "display_name": "Python 3 (ipykernel)",
   "language": "python",
   "name": "python3"
  },
  "language_info": {
   "codemirror_mode": {
    "name": "ipython",
    "version": 3
   },
   "file_extension": ".py",
   "mimetype": "text/x-python",
   "name": "python",
   "nbconvert_exporter": "python",
   "pygments_lexer": "ipython3",
   "version": "3.11.8"
  }
 },
 "nbformat": 4,
 "nbformat_minor": 5
}
